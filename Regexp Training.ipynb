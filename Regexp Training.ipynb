{
 "cells": [
  {
   "cell_type": "markdown",
   "metadata": {},
   "source": [
    "## Regular Expressions Training\n",
    "### Samuel Gonzalez\n",
    "### Jun 21, 2018"
   ]
  },
  {
   "cell_type": "code",
   "execution_count": 346,
   "metadata": {
    "collapsed": true
   },
   "outputs": [],
   "source": [
    "import re"
   ]
  },
  {
   "cell_type": "markdown",
   "metadata": {},
   "source": [
    "## The Basics\n",
    "\n",
    "    match     Match a regular expression pattern to the beginning of a string.\n",
    "    fullmatch Match a regular expression pattern to all of a string.\n",
    "    search    Search a string for the presence of a pattern.\n",
    "    sub       Substitute occurrences of a pattern found in a string.\n",
    "    subn      Same as sub, but also return the number of substitutions made.\n",
    "    split     Split a string by the occurrences of a pattern.\n",
    "    findall   Find all occurrences of a pattern in a string.\n",
    "    finditer  Return an iterator yielding a match object for each match.\n",
    "    compile   Compile a pattern into a RegexObject.\n",
    "    purge     Clear the regular expression cache.\n",
    "    escape    Backslash all non-alphanumerics in a string.\n"
   ]
  },
  {
   "cell_type": "markdown",
   "metadata": {},
   "source": [
    "## Construction\n",
    "\n",
    "re is Python's method for regular expressions.The construction of the argument is of the form:\n",
    "\n",
    "    mymatches = re.<method>(\"pattern\",\"string\")\n",
    "   \n",
    "Alternatively, the desired pattern or pattern format could be compiled into a regexp object and the re methods can be applied on this object:\n",
    "\n",
    "    mypattern = re.compile(r\"pattern\")\n",
    "    mymatches = mypattern.<method>(\"string\")\n",
    "    \n",
    "Saving the matches in either a string or a match object. If a string, the end results could be used right away, however if a match object returns you will have to apply a method to the match object in order to extract the desired item.\n",
    "    \n",
    "    "
   ]
  },
  {
   "cell_type": "markdown",
   "metadata": {},
   "source": [
    "### Using re.match\n",
    "\n",
    "* Returns the literal string passed\n",
    "* Alternatively, returns set of characters matching the speficied format\n",
    "* Returns a string\n",
    "\n",
    "\\* Notice the use of matches.group() to extract match returns. More on this later"
   ]
  },
  {
   "cell_type": "code",
   "execution_count": 347,
   "metadata": {},
   "outputs": [
    {
     "name": "stdout",
     "output_type": "stream",
     "text": [
      "Matching (\"Y\") returns: Y\n",
      "Matching (\"Ye\") returns: Ye\n",
      "Matching (\"Yes\") returns: Yes\n",
      "Matching (\"Y.\") returns: Ye\n",
      "Matching (\"Y.*\") returns: Yes, match\n",
      "Matching (\"Y?.*\") returns: Yes, match\n",
      "Matching (\"Y.+\") returns: Yes, match\n"
     ]
    }
   ],
   "source": [
    "#Example of match\n",
    "\n",
    "# A string to match, and one to not match\n",
    "matchingString = 'Yes, match'\n",
    "\n",
    "# Return a match \n",
    "matches = re.match('Y',matchingString)\n",
    "print('Matching (\"Y\") returns: ' + str(matches.group()))\n",
    "\n",
    "matches = re.match('Ye',matchingString)\n",
    "print('Matching (\"Ye\") returns: ' + str(matches.group()))\n",
    "\n",
    "matches = re.match('Yes',matchingString)\n",
    "print('Matching (\"Yes\") returns: ' + str(matches.group()))\n",
    "\n",
    "matches = re.match('Y.',matchingString)\n",
    "print('Matching (\"Y.\") returns: ' + str(matches.group()))\n",
    "\n",
    "matches = re.match('Y.*',matchingString)\n",
    "print('Matching (\"Y.*\") returns: ' + str(matches.group()))\n",
    "\n",
    "matches = re.match('Y?.*',matchingString)\n",
    "print('Matching (\"Y?.*\") returns: ' + str(matches.group()))\n",
    "\n",
    "matches = re.match('Y.+',matchingString)\n",
    "print('Matching (\"Y.+\") returns: ' + str(matches.group()))"
   ]
  },
  {
   "cell_type": "markdown",
   "metadata": {},
   "source": [
    "### Using re.fullmatch\n",
    "\n",
    "* Looks for matches of exactly the format specified\n",
    "* Return a match object\n",
    "* Fullmatch is great when doing data validation or checking for a condition through a True/False statement\n"
   ]
  },
  {
   "cell_type": "code",
   "execution_count": 348,
   "metadata": {},
   "outputs": [
    {
     "name": "stdout",
     "output_type": "stream",
     "text": [
      "None\n"
     ]
    }
   ],
   "source": [
    "# This example DOES NOT work because the string is not an exact match of the specified format\n",
    "mystring = 'Sed porttitor 281-617-4840 urna a quam hendrerit, 817-281-4840 ornare quam blandit.'\n",
    "matches = re.fullmatch(r'\\d\\d\\d[-.]\\d\\d\\d[-.]\\d\\d\\d\\d',mystring)   \n",
    "print(matches) "
   ]
  },
  {
   "cell_type": "code",
   "execution_count": 349,
   "metadata": {},
   "outputs": [
    {
     "name": "stdout",
     "output_type": "stream",
     "text": [
      "<_sre.SRE_Match object; span=(0, 12), match='281-617-4840'>\n",
      "\n",
      "Match Condition Passed\n"
     ]
    }
   ],
   "source": [
    "# This example DOES work\n",
    "mystring = '281-617-4840'\n",
    "mymatches = re.fullmatch(r'\\d\\d\\d[-.]\\d\\d\\d[-.]\\d\\d\\d\\d',mystring)   \n",
    "print(mymatches) \n",
    "if mymatches: print('\\nMatch Condition Passed')"
   ]
  },
  {
   "cell_type": "code",
   "execution_count": 350,
   "metadata": {},
   "outputs": [
    {
     "name": "stdout",
     "output_type": "stream",
     "text": [
      "None\n"
     ]
    }
   ],
   "source": [
    "mystring = 'blob'\n",
    "mymatches = re.fullmatch(r'\\d\\d\\d[-.]\\d\\d\\d[-.]\\d\\d\\d\\d',mystring)   \n",
    "print(mymatches) \n",
    "if mymatches: print('\\nMatch Condition Passed')"
   ]
  },
  {
   "cell_type": "code",
   "execution_count": 351,
   "metadata": {
    "collapsed": true
   },
   "outputs": [],
   "source": [
    "mystrings = [\n",
    "    'Lorem ipsum dolor sit amet, consectetur adipiscing elit.',\n",
    "    'Sed porttitor 281-617-4840 urna a quam hendrerit, 817-281-4840 ornare quam blandit.',\n",
    "    'Praesent consectetur rutrum orci nec lacinia.']"
   ]
  },
  {
   "cell_type": "markdown",
   "metadata": {
    "collapsed": true
   },
   "source": [
    "### Using re.search\n",
    "\n",
    "* Returns a match object\n",
    "* Returns the first match only"
   ]
  },
  {
   "cell_type": "code",
   "execution_count": 352,
   "metadata": {},
   "outputs": [
    {
     "name": "stdout",
     "output_type": "stream",
     "text": [
      "<_sre.SRE_Match object; span=(14, 26), match='281-617-4840'>\n"
     ]
    }
   ],
   "source": [
    "mystring = 'Sed porttitor 281-617-4840 urna a quam hendrerit, 817-281-4840 ornare quam blandit.'\n",
    "matches = re.search(r'\\d\\d\\d[-.]\\d\\d\\d[-.]\\d\\d\\d\\d',mystring)   \n",
    "print(matches)"
   ]
  },
  {
   "cell_type": "markdown",
   "metadata": {},
   "source": [
    "### Using re.sub"
   ]
  },
  {
   "cell_type": "code",
   "execution_count": 353,
   "metadata": {},
   "outputs": [
    {
     "name": "stdout",
     "output_type": "stream",
     "text": [
      "REF-Tang-Profile-AE\n"
     ]
    }
   ],
   "source": [
    "mystring = '23093762 REF-Tang-Profile-AE'\n",
    "\n",
    "mynewstring  = re.sub(r'23093762\\s*','',mystring)\n",
    "\n",
    "print(mynewstring)"
   ]
  },
  {
   "cell_type": "markdown",
   "metadata": {},
   "source": [
    "### Using re.subn"
   ]
  },
  {
   "cell_type": "code",
   "execution_count": 354,
   "metadata": {},
   "outputs": [
    {
     "name": "stdout",
     "output_type": "stream",
     "text": [
      "('REF-Tang-Profile-AE REF-Tang-Thickness', 2)\n"
     ]
    }
   ],
   "source": [
    "mystring = '23093762 REF-Tang-Profile-AE 23093762 REF-Tang-Thickness'\n",
    "mynewstring  = re.subn(r'23093762\\s*','',mystring)\n",
    "\n",
    "print(mynewstring)"
   ]
  },
  {
   "cell_type": "markdown",
   "metadata": {},
   "source": [
    "### Using re.split"
   ]
  },
  {
   "cell_type": "code",
   "execution_count": 355,
   "metadata": {},
   "outputs": [
    {
     "data": {
      "text/plain": [
       "['23093762', 'REF-Tang-Profile-AE', '23093762', 'REF-Tang-Thickness']"
      ]
     },
     "execution_count": 355,
     "metadata": {},
     "output_type": "execute_result"
    }
   ],
   "source": [
    "mystring = '23093762 REF-Tang-Profile-AE 23093762 REF-Tang-Thickness'\n",
    "mysplitlist = re.split(' ',mystring)\n",
    "mysplitlist"
   ]
  },
  {
   "cell_type": "markdown",
   "metadata": {},
   "source": [
    "### Using re.findall\n",
    "\n",
    "* Returns a string, not a match object\n",
    "* Returns all matches"
   ]
  },
  {
   "cell_type": "code",
   "execution_count": 356,
   "metadata": {},
   "outputs": [
    {
     "name": "stdout",
     "output_type": "stream",
     "text": [
      "Search String: Lorem ipsum dolor sit amet, consectetur adipiscing elit.\n",
      "Matches returned: \n",
      "Is Empty\n",
      "\n",
      "\n",
      "Search String: Sed porttitor 281-617-4840 urna a quam hendrerit, 817-281-4840 ornare quam blandit.\n",
      "Matches returned: \n",
      "281-617-4840\n",
      "817-281-4840\n",
      "\n",
      "Search String: Praesent consectetur rutrum orci nec lacinia.\n",
      "Matches returned: \n",
      "Is Empty\n",
      "\n",
      "\n"
     ]
    }
   ],
   "source": [
    "mymatches = []\n",
    "for mystring in mystrings:\n",
    "    print('Search String: ' + mystring)\n",
    "    mymatches = re.findall(r'\\d\\d\\d[-.]\\d\\d\\d[-.]\\d\\d\\d\\d',mystring)\n",
    "    print('Matches returned: ')\n",
    "    if not mymatches:\n",
    "        print('Is Empty')\n",
    "        print('\\n')\n",
    "    else:\n",
    "        for mymatch in mymatches:\n",
    "            print(mymatch)\n",
    "        print('')       "
   ]
  },
  {
   "cell_type": "markdown",
   "metadata": {},
   "source": [
    "### Using re.finditer\n",
    "\n",
    "* Returns an object for each found item"
   ]
  },
  {
   "cell_type": "code",
   "execution_count": 357,
   "metadata": {},
   "outputs": [
    {
     "name": "stdout",
     "output_type": "stream",
     "text": [
      "Search String: Lorem ipsum dolor sit amet, consectetur adipiscing elit.\n",
      "Matches returned: \n",
      "\n",
      "Search String: Sed porttitor 281-617-4840 urna a quam hendrerit, 817-281-4840 ornare quam blandit.\n",
      "Matches returned: \n",
      "<_sre.SRE_Match object; span=(14, 26), match='281-617-4840'>\n",
      "<_sre.SRE_Match object; span=(50, 62), match='817-281-4840'>\n",
      "\n",
      "Search String: Praesent consectetur rutrum orci nec lacinia.\n",
      "Matches returned: \n",
      "\n"
     ]
    }
   ],
   "source": [
    "mymatches = []\n",
    "for mystring in mystrings:\n",
    "    print('Search String: ' + mystring)\n",
    "    mymatches = re.finditer(r'\\d\\d\\d[-.]\\d\\d\\d[-.]\\d\\d\\d\\d',mystring)\n",
    "    print('Matches returned: ')\n",
    "    for mymatch in mymatches:\n",
    "        print(mymatch)\n",
    "    print('')"
   ]
  },
  {
   "cell_type": "markdown",
   "metadata": {},
   "source": [
    "* You can extract items from the match object"
   ]
  },
  {
   "cell_type": "code",
   "execution_count": 358,
   "metadata": {},
   "outputs": [
    {
     "name": "stdout",
     "output_type": "stream",
     "text": [
      "span starts at: 50\n",
      "span ends at: 62\n",
      "817-281-4840\n"
     ]
    }
   ],
   "source": [
    "# Calling the span start and end\n",
    "print('span starts at: ' + str(mymatch.span()[0]))\n",
    "print('span ends at: ' + str(mymatch.span()[1]))\n",
    "\n",
    "# Using span to slice the string\n",
    "print(mystrings[1][mymatch.span()[0]:mymatch.span()[1]])"
   ]
  },
  {
   "cell_type": "markdown",
   "metadata": {},
   "source": [
    "## Patterns"
   ]
  },
  {
   "cell_type": "markdown",
   "metadata": {},
   "source": [
    "The following is a list of possible patterns and their descriptors\n",
    "\n",
    "    \".\"      Matches any character except a newline.\n",
    "    \n",
    "    \"^\"      Matches the start of the string.\n",
    "    \n",
    "    \"$\"      Matches the end of the string or just before the newline at the end of the string.\n",
    "    \n",
    "    \"*\"      Matches 0 or more (greedy) repetitions of the preceding RE.\n",
    "             Greedy means that it will match as many repetitions as possible.\n",
    "             \n",
    "    \"+\"      Matches 1 or more (greedy) repetitions of the preceding RE.\n",
    "    \n",
    "    \"?\"      Matches 0 or 1 (greedy) of the preceding RE.\n",
    "    \n",
    "    *?,+?,?? Non-greedy versions of the previous three special characters.\n",
    "    \n",
    "    {m,n}    Matches from m to n repetitions of the preceding RE.\n",
    "    \n",
    "    {m,n}?   Non-greedy version of the above.\n",
    "    \n",
    "    \"\\\\\"     Either escapes special characters or signals a special sequence.\n",
    "    \n",
    "    []       Indicates a set of characters.\n",
    "             A \"^\" as the first character indicates a complementing set.\n",
    "             \n",
    "    \"|\"      A|B, creates an RE that will match either A or B.\n",
    "    \n",
    "    (...)    Matches the RE inside the parentheses.\n",
    "             The contents can be retrieved or matched later in the string.\n",
    "                 \n",
    "    (?:...)  Non-grouping version of regular parentheses.\n",
    "    \n",
    "    (?P<name>...) The substring matched by the group is accessible by name.\n",
    "    \n",
    "    (?P=name)     Matches the text matched earlier by the group named name.\n",
    "    \n",
    "    (?#...)  A comment; ignored.\n",
    "    \n",
    "    (?=...)  Matches if ... matches next, but doesn't consume the string.\n",
    "    \n",
    "    (?!...)  Matches if ... doesn't match next.\n",
    "    \n",
    "    (?<=...) Matches if preceded by ... (must be fixed length).\n",
    "    \n",
    "    (?<!...) Matches if not preceded by ... (must be fixed length).\n",
    "    \n",
    "    (?(id/name)yes|no) Matches yes pattern if the group with id/name matched\n",
    "    \n",
    "    (?aiLmsux) Set the A, I, L, M, S, U, or X flag for the RE (see below).\n",
    "\n"
   ]
  },
  {
   "cell_type": "markdown",
   "metadata": {},
   "source": [
    "Over the following examples, different patterns will be demonstrated using a **compiled** pattern regexp object and the **finditer**"
   ]
  },
  {
   "cell_type": "markdown",
   "metadata": {},
   "source": [
    "We start out with the most basic pattern. The **\".\"** matches any and every character, individually"
   ]
  },
  {
   "cell_type": "code",
   "execution_count": 359,
   "metadata": {},
   "outputs": [
    {
     "name": "stdout",
     "output_type": "stream",
     "text": [
      "Matches returned: \n",
      "<_sre.SRE_Match object; span=(0, 1), match='a'>\n",
      "<_sre.SRE_Match object; span=(1, 2), match='a'>\n",
      "<_sre.SRE_Match object; span=(2, 3), match='?'>\n",
      "<_sre.SRE_Match object; span=(3, 4), match='K'>\n",
      "<_sre.SRE_Match object; span=(4, 5), match=','>\n",
      "<_sre.SRE_Match object; span=(5, 6), match='%'>\n",
      "<_sre.SRE_Match object; span=(6, 7), match='5'>\n",
      "<_sre.SRE_Match object; span=(7, 8), match='w'>\n",
      "\n"
     ]
    }
   ],
   "source": [
    "mystring = 'aa?K,%5w'\n",
    "\n",
    "pattern = re.compile(r'.')\n",
    "\n",
    "mymatches = pattern.finditer(mystring)\n",
    "\n",
    "print('Matches returned: ')\n",
    "for mymatch in mymatches : print(mymatch)\n",
    "print('')"
   ]
  },
  {
   "cell_type": "markdown",
   "metadata": {},
   "source": [
    "Here we use **\"^\"** to find the string which has a matching pattern at the **beginning**, and retun the exact pattern as the match object"
   ]
  },
  {
   "cell_type": "code",
   "execution_count": 360,
   "metadata": {},
   "outputs": [],
   "source": [
    "mystrings = [\n",
    "    'https://www.youtube.com/watch?v=K8L6KVGG-7o',\n",
    "    'youtube.com/watch?v=K8L6KVGG-7o'\n",
    "]"
   ]
  },
  {
   "cell_type": "code",
   "execution_count": 361,
   "metadata": {},
   "outputs": [
    {
     "name": "stdout",
     "output_type": "stream",
     "text": [
      "Search String: https://www.youtube.com/watch?v=K8L6KVGG-7o\n",
      "Matches returned: \n",
      "\n",
      "Search String: youtube.com/watch?v=K8L6KVGG-7o\n",
      "Matches returned: \n",
      "<_sre.SRE_Match object; span=(0, 3), match='you'>\n",
      "\n"
     ]
    }
   ],
   "source": [
    "pattern = re.compile(r'^you')\n",
    "\n",
    "mymatches = []\n",
    "for mystring in mystrings:\n",
    "    print('Search String: ' + mystring)\n",
    "    mymatches = pattern.finditer(mystring)\n",
    "    print('Matches returned: ')\n",
    "    for mymatch in mymatches:\n",
    "        print(mymatch)\n",
    "    print('')"
   ]
  },
  {
   "cell_type": "code",
   "execution_count": 378,
   "metadata": {},
   "outputs": [
    {
     "name": "stdout",
     "output_type": "stream",
     "text": [
      "<_sre.SRE_Match object; span=(0, 43), match='https://www.youtube.com/watch?v=K8L6KVGG-7o'>\n",
      "<_sre.SRE_Match object; span=(43, 43), match=''>\n"
     ]
    }
   ],
   "source": [
    "mystring = 'https://www.youtube.com/watch?v=K8L6KVGG-7o'\n",
    "\n",
    "pattern = re.compile(r'.*')\n",
    "\n",
    "mymatches = pattern.finditer(mystring)\n",
    "for mymatch in mymatches: print(mymatch)"
   ]
  },
  {
   "cell_type": "markdown",
   "metadata": {},
   "source": [
    "Here we use **\"$\"** to find the string which has a matching pattern at the **end**, and return the exact pattern as the match object"
   ]
  },
  {
   "cell_type": "code",
   "execution_count": 380,
   "metadata": {
    "collapsed": true
   },
   "outputs": [],
   "source": [
    "mystrings = [\n",
    "    'Past participle verbs end in \"-ed\" (i.e.) finished',\n",
    "    'Present continuous verbs end in \"-ing\" (i.e) running'\n",
    "]"
   ]
  },
  {
   "cell_type": "code",
   "execution_count": 381,
   "metadata": {},
   "outputs": [
    {
     "name": "stdout",
     "output_type": "stream",
     "text": [
      "Search String: Past participle verbs end in \"-ed\" (i.e.) finished\n",
      "Matches returned: \n",
      "\n",
      "Search String: Present continuous verbs end in \"-ing\" (i.e) running\n",
      "Matches returned: \n",
      "<_sre.SRE_Match object; span=(49, 52), match='ing'>\n",
      "\n"
     ]
    }
   ],
   "source": [
    "pattern = re.compile(r'ing$')\n",
    "\n",
    "mymatches = []\n",
    "for mystring in mystrings:\n",
    "    print('Search String: ' + mystring)\n",
    "    mymatches = pattern.finditer(mystring)\n",
    "    print('Matches returned: ')\n",
    "    for mymatch in mymatches:\n",
    "        print(mymatch)\n",
    "    print('')"
   ]
  },
  {
   "cell_type": "markdown",
   "metadata": {},
   "source": [
    "Additionally we can add **\"^\"** to return the string which has a matching pattern at the end, but the returned match goes from the **beginning** of the string up to the matched pattern."
   ]
  },
  {
   "cell_type": "code",
   "execution_count": 365,
   "metadata": {},
   "outputs": [
    {
     "name": "stdout",
     "output_type": "stream",
     "text": [
      "Search String: Past participle verbs end in \"-ed\" (i.e.) finished\n",
      "Matches returned: \n",
      "\n",
      "Search String: Continuous verbs end in \"-ing\" (i.e) running\n",
      "Matches returned: \n",
      "<_sre.SRE_Match object; span=(1, 44), match='ontinuous verbs end in \"-ing\" (i.e) running'>\n",
      "\n"
     ]
    },
    {
     "data": {
      "text/plain": [
       "'ontinuous verbs end in \"-ing\" (i.e) running'"
      ]
     },
     "execution_count": 365,
     "metadata": {},
     "output_type": "execute_result"
    }
   ],
   "source": [
    "mystrings = [\n",
    "    'Past participle verbs end in \"-ed\" (i.e.) finished',\n",
    "    'Continuous verbs end in \"-ing\" (i.e) running'\n",
    "]\n",
    "\n",
    "# pattern = re.compile(r'^C.*ing$')\n",
    "# pattern = re.compile(r'^o.*ing$')\n",
    "pattern = re.compile(r'o.*ing$')\n",
    "\n",
    "\n",
    "\n",
    "mymatches = []\n",
    "for mystring in mystrings:\n",
    "    print('Search String: ' + mystring)\n",
    "    mymatches = pattern.finditer(mystring)\n",
    "    print('Matches returned: ')\n",
    "    for mymatch in mymatches:\n",
    "        print(mymatch)\n",
    "    print('')\n",
    "    \n",
    "mystrings[1][mymatch.span()[0]:mymatch.span()[1]:]"
   ]
  },
  {
   "cell_type": "code",
   "execution_count": 386,
   "metadata": {},
   "outputs": [
    {
     "name": "stdout",
     "output_type": "stream",
     "text": [
      "Search String: Past participle verbs end in \"-ed\" (i.e.) finished\n",
      "Matches returned: \n",
      "\n",
      "Search String: Continuous verbs end in \"-ing\" (i.e) running\n",
      "Matches returned: \n",
      "<_sre.SRE_Match object; span=(0, 44), match='Continuous verbs end in \"-ing\" (i.e) running'>\n",
      "\n",
      "Search String: ing\n",
      "Matches returned: \n",
      "<_sre.SRE_Match object; span=(0, 3), match='ing'>\n",
      "\n"
     ]
    }
   ],
   "source": [
    "mystrings = [\n",
    "    'Past participle verbs end in \"-ed\" (i.e.) finished',\n",
    "    'Continuous verbs end in \"-ing\" (i.e) running',\n",
    "    'ing'\n",
    "]\n",
    "\n",
    "# pattern = re.compile(r'^.+ing$')\n",
    "pattern = re.compile(r'^.*ing$')\n",
    "\n",
    "\n",
    "mymatches = []\n",
    "for mystring in mystrings:\n",
    "    print('Search String: ' + mystring)\n",
    "    mymatches = pattern.finditer(mystring)\n",
    "    print('Matches returned: ')\n",
    "    for mymatch in mymatches:\n",
    "        print(mymatch)\n",
    "    print('')     "
   ]
  },
  {
   "cell_type": "markdown",
   "metadata": {},
   "source": [
    "* We use **\"\\\"** to escape special characters like periods\n",
    "* We use **\"?\"** to find matches of the desired pattern"
   ]
  },
  {
   "cell_type": "markdown",
   "metadata": {},
   "source": [
    "Find instances of Mr."
   ]
  },
  {
   "cell_type": "code",
   "execution_count": 367,
   "metadata": {
    "collapsed": true
   },
   "outputs": [],
   "source": [
    "mystring = 'Mr. Schafer, Mr Smith, Ms Davis, Mrs. Robinson, Mr. T'"
   ]
  },
  {
   "cell_type": "code",
   "execution_count": 368,
   "metadata": {},
   "outputs": [
    {
     "name": "stdout",
     "output_type": "stream",
     "text": [
      "<_sre.SRE_Match object; span=(0, 3), match='Mr.'>\n",
      "<_sre.SRE_Match object; span=(48, 51), match='Mr.'>\n"
     ]
    }
   ],
   "source": [
    "# We want to find instances of \"Mr.\"\n",
    "pattern = re.compile(r'Mr\\.')\n",
    "mymatches = pattern.finditer(mystring)\n",
    "for mymatch in mymatches : print(mymatch)"
   ]
  },
  {
   "cell_type": "code",
   "execution_count": 369,
   "metadata": {},
   "outputs": [
    {
     "name": "stdout",
     "output_type": "stream",
     "text": [
      "<_sre.SRE_Match object; span=(0, 3), match='Mr.'>\n",
      "<_sre.SRE_Match object; span=(13, 15), match='Mr'>\n",
      "<_sre.SRE_Match object; span=(33, 35), match='Mr'>\n",
      "<_sre.SRE_Match object; span=(48, 51), match='Mr.'>\n"
     ]
    }
   ],
   "source": [
    "# We want to get all three Mr whether they have a period or not:\n",
    "pattern = re.compile(r'Mr\\.?')\n",
    "mymatches = pattern.finditer(mystring)\n",
    "for mymatch in mymatches : print(mymatch)"
   ]
  },
  {
   "cell_type": "markdown",
   "metadata": {},
   "source": [
    "#### Characters used for pattern construction"
   ]
  },
  {
   "cell_type": "markdown",
   "metadata": {},
   "source": [
    "    \\d       Matches any decimal digit; equivalent to the set [0-9] in\n",
    "             bytes patterns or string patterns with the ASCII flag.\n",
    "             In string patterns without the ASCII flag, it will match the whole\n",
    "             range of Unicode digits.\n",
    "\n",
    "    \\s       Matches any whitespace character; equivalent to [ \\t\\n\\r\\f\\v] in\n",
    "             bytes patterns or string patterns with the ASCII flag.\n",
    "             In string patterns without the ASCII flag, it will match the whole\n",
    "             range of Unicode whitespace characters.\n",
    "                \n",
    "    \\w       Matches any alphanumeric character; equivalent to [a-zA-Z0-9_]\n",
    "             in bytes patterns or string patterns with the ASCII flag.\n",
    "             In string patterns without the ASCII flag, it will match the\n",
    "             range of Unicode alphanumeric charactemyrs (letters plus digits\n",
    "             plus underscore).\n",
    "             With LOCALE, it will match the set [0-9_] plus characters defined\n",
    "             as letters for the current locale."
   ]
  },
  {
   "cell_type": "code",
   "execution_count": 370,
   "metadata": {},
   "outputs": [
    {
     "name": "stdout",
     "output_type": "stream",
     "text": [
      "<_sre.SRE_Match object; span=(0, 5), match='Mr. S'>\n",
      "<_sre.SRE_Match object; span=(13, 17), match='Mr S'>\n",
      "<_sre.SRE_Match object; span=(48, 53), match='Mr. T'>\n"
     ]
    }
   ],
   "source": [
    "#Then we look for a space and a capital letter followign the space\n",
    "pattern = re.compile(r'Mr\\.?\\s[A-Z]') #Finds Mr. S, Mr S and Mr. T\n",
    "mymatches = pattern.finditer(mystring)\n",
    "for mymatch in mymatches : print(mymatch)"
   ]
  },
  {
   "cell_type": "code",
   "execution_count": 371,
   "metadata": {},
   "outputs": [
    {
     "name": "stdout",
     "output_type": "stream",
     "text": [
      "<_sre.SRE_Match object; span=(0, 11), match='Mr. Schafer'>\n",
      "<_sre.SRE_Match object; span=(13, 21), match='Mr Smith'>\n"
     ]
    }
   ],
   "source": [
    "#Add the search for the complete first name\n",
    "#After we have found the prefix followed by period, space and first letter we don't know how many letters to find\n",
    "\n",
    "pattern = re.compile(r'Mr\\.?\\s[A-Z]\\w+') #Finds Mr. Schaffer, Mr Smith but not Mr. T becuase there is not a word character after T\n",
    "# pattern = re.compile(r'Mr\\.?\\s\\w+') # Finds Mr. T because there is not a word character after T\n",
    "mymatches = pattern.finditer(mystring)\n",
    "for mymatch in mymatches : print(mymatch)"
   ]
  },
  {
   "cell_type": "code",
   "execution_count": 372,
   "metadata": {},
   "outputs": [
    {
     "name": "stdout",
     "output_type": "stream",
     "text": [
      "<_sre.SRE_Match object; span=(0, 11), match='Mr. Schafer'>\n",
      "<_sre.SRE_Match object; span=(13, 21), match='Mr Smith'>\n",
      "<_sre.SRE_Match object; span=(48, 53), match='Mr. T'>\n"
     ]
    }
   ],
   "source": [
    "#The asterisk quantifier allows to find zero or more of the characters \n",
    "\n",
    "pattern = re.compile(r'Mr\\.?\\s[A-Z]\\w*') #Finds Mr. Schaffer, Mr Smith AND Mr. T (becuase Mr. T is followed by zero word characters)\n",
    "mymatches = pattern.finditer(mystring)\n",
    "for mymatch in mymatches : print(mymatch)"
   ]
  },
  {
   "cell_type": "code",
   "execution_count": 373,
   "metadata": {},
   "outputs": [
    {
     "name": "stdout",
     "output_type": "stream",
     "text": [
      "<_sre.SRE_Match object; span=(0, 11), match='Mr. Schafer'>\n",
      "<_sre.SRE_Match object; span=(13, 21), match='Mr Smith'>\n",
      "<_sre.SRE_Match object; span=(23, 31), match='Ms Davis'>\n",
      "<_sre.SRE_Match object; span=(33, 46), match='Mrs. Robinson'>\n",
      "<_sre.SRE_Match object; span=(48, 53), match='Mr. T'>\n"
     ]
    }
   ],
   "source": [
    "#Add a group of possible characters\n",
    "\n",
    "pattern = re.compile(r'M(r|s|rs)\\.?\\s[A-Z]\\w*')\n",
    "mymatches = pattern.finditer(mystring)\n",
    "for mymatch in mymatches : print(mymatch)"
   ]
  },
  {
   "cell_type": "code",
   "execution_count": 374,
   "metadata": {},
   "outputs": [
    {
     "name": "stdout",
     "output_type": "stream",
     "text": [
      "<_sre.SRE_Match object; span=(0, 11), match='Mr. Schafer'>\n",
      "<_sre.SRE_Match object; span=(13, 21), match='Mr Smith'>\n",
      "<_sre.SRE_Match object; span=(23, 31), match='Ms Davis'>\n",
      "<_sre.SRE_Match object; span=(33, 46), match='Mrs. Robinson'>\n",
      "<_sre.SRE_Match object; span=(48, 53), match='Mr. T'>\n"
     ]
    }
   ],
   "source": [
    "# Easier to read, same result\n",
    "\n",
    "pattern = re.compile(r'(Mr|Ms|Mrs)\\.?\\s[A-Z]\\w*')\n",
    "mymatches = pattern.finditer(mystring)\n",
    "for mymatch in mymatches : print(mymatch)"
   ]
  },
  {
   "cell_type": "code",
   "execution_count": 375,
   "metadata": {},
   "outputs": [
    {
     "name": "stdout",
     "output_type": "stream",
     "text": [
      "<_sre.SRE_Match object; span=(18, 49), match='samuelgonzalez@controlsdata.com'>\n"
     ]
    }
   ],
   "source": [
    "mystring = 'The email address samuelgonzalez@controlsdata.com belongs to Rolls-Royce Controls Data Services'\n",
    "\n",
    "# Now we used a pattern constructor to ind multiple lower or upper until '@' then multiple lower or upper until '.' then 'com'\n",
    "\n",
    "pattern = re.compile(r'[a-zA-Z]+@[a-zA-Z]+\\.com')\n",
    "mymatches = pattern.finditer(mystring)\n",
    "for mymatch in mymatches : print(mymatch)"
   ]
  },
  {
   "cell_type": "code",
   "execution_count": 382,
   "metadata": {},
   "outputs": [
    {
     "name": "stdout",
     "output_type": "stream",
     "text": [
      "<_sre.SRE_Match object; span=(18, 41), match='samuelgonzalez@tamu.edu'>\n"
     ]
    }
   ],
   "source": [
    "# We find multiple lower or upper until '@' then multiple lower or upper until '.' then 'com  or 'edu'\n",
    "\n",
    "mystring = 'The email address samuelgonzalez@tamu.edu belongs to Texas A&M'\n",
    "\n",
    "pattern = re.compile(r'[a-zA-Z.]+@[a-zA-Z]+\\.[com|edu]*') #Need the star to match the entire string\n",
    "mymatches = pattern.finditer(mystring)\n",
    "for mymatch in mymatches : print(mymatch)   "
   ]
  },
  {
   "cell_type": "markdown",
   "metadata": {},
   "source": [
    "#### Quantifiers\n",
    "\n",
    "Quantifiers:\n",
    "*     \\*     0 or more\n",
    "*     \\+     1 or more\n",
    "*     ?     0 or one\n",
    "*     {3}   exact number\n",
    "*     {3,4} range of numbers"
   ]
  },
  {
   "cell_type": "code",
   "execution_count": 377,
   "metadata": {},
   "outputs": [
    {
     "name": "stdout",
     "output_type": "stream",
     "text": [
      "<_sre.SRE_Match object; span=(0, 12), match='281-817-4848'>\n"
     ]
    }
   ],
   "source": [
    "mystring = '281-817-4848'\n",
    "\n",
    "pattern = re.compile(r'\\d{3}[-]\\d{3}[-]\\d{4}')\n",
    "mymatches = pattern.finditer(mystring)\n",
    "for mymatch in mymatches : print(mymatch)      "
   ]
  },
  {
   "cell_type": "code",
   "execution_count": null,
   "metadata": {
    "collapsed": true
   },
   "outputs": [],
   "source": []
  }
 ],
 "metadata": {
  "kernelspec": {
   "display_name": "Python 3",
   "language": "python",
   "name": "python3"
  },
  "language_info": {
   "codemirror_mode": {
    "name": "ipython",
    "version": 3
   },
   "file_extension": ".py",
   "mimetype": "text/x-python",
   "name": "python",
   "nbconvert_exporter": "python",
   "pygments_lexer": "ipython3",
   "version": "3.6.1"
  }
 },
 "nbformat": 4,
 "nbformat_minor": 2
}
